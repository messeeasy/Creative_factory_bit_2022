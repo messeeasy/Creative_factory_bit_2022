{
 "cells": [
  {
   "cell_type": "code",
   "execution_count": 1,
   "metadata": {},
   "outputs": [],
   "source": [
    "# Import dependencies\n",
    "from scipy.io import wavfile\n",
    "from sklearn.svm import SVC\n",
    "from scipy.signal import spectrogram\n",
    "from matplotlib import pyplot as plt\n",
    "from sklearn.metrics import accuracy_score\n",
    "from sklearn.metrics import confusion_matrix\n",
    "from sklearn.neural_network import MLPClassifier\n",
    "from sklearn.model_selection import train_test_split\n",
    "from pathlib import Path\n",
    "\n",
    "import glob\n",
    "import itertools\n",
    "import numpy as np\n",
    "import pandas as pd\n",
    "import tensorflow as tf\n",
    "import random\n",
    "#assert tf.__version__ == \"1.7.0\"\n",
    "#tf.logging.set_verbosity(tf.logging.INFO)"
   ]
  },
  {
   "cell_type": "code",
   "execution_count": 2,
   "metadata": {},
   "outputs": [
    {
     "name": "stdout",
     "output_type": "stream",
     "text": [
      "{'path': '/workspaces/python_env1/Creative_factory/the-circor-digiscope-phonocardiogram-dataset-1.0.3/AV/abnormal/50066_AV.wav', 'label': 'abnormal'}\n"
     ]
    },
    {
     "data": {
      "text/html": [
       "<div>\n",
       "<style scoped>\n",
       "    .dataframe tbody tr th:only-of-type {\n",
       "        vertical-align: middle;\n",
       "    }\n",
       "\n",
       "    .dataframe tbody tr th {\n",
       "        vertical-align: top;\n",
       "    }\n",
       "\n",
       "    .dataframe thead th {\n",
       "        text-align: right;\n",
       "    }\n",
       "</style>\n",
       "<table border=\"1\" class=\"dataframe\">\n",
       "  <thead>\n",
       "    <tr style=\"text-align: right;\">\n",
       "      <th></th>\n",
       "      <th>path</th>\n",
       "      <th>label</th>\n",
       "      <th>x</th>\n",
       "    </tr>\n",
       "  </thead>\n",
       "  <tbody>\n",
       "    <tr>\n",
       "      <th>0</th>\n",
       "      <td>/workspaces/python_env1/Creative_factory/the-c...</td>\n",
       "      <td>abnormal</td>\n",
       "      <td>[513, 349, 64, -77, 140, 211, -57, -206, -177,...</td>\n",
       "    </tr>\n",
       "    <tr>\n",
       "      <th>1</th>\n",
       "      <td>/workspaces/python_env1/Creative_factory/the-c...</td>\n",
       "      <td>abnormal</td>\n",
       "      <td>[-425, 1045, 518, -674, -690, -588, -237, -276...</td>\n",
       "    </tr>\n",
       "    <tr>\n",
       "      <th>2</th>\n",
       "      <td>/workspaces/python_env1/Creative_factory/the-c...</td>\n",
       "      <td>abnormal</td>\n",
       "      <td>[-643, -222, 1664, 3281, 2403, 1601, 987, -623...</td>\n",
       "    </tr>\n",
       "    <tr>\n",
       "      <th>3</th>\n",
       "      <td>/workspaces/python_env1/Creative_factory/the-c...</td>\n",
       "      <td>abnormal</td>\n",
       "      <td>[331, 950, 528, -393, -207, -435, -1038, -1068...</td>\n",
       "    </tr>\n",
       "    <tr>\n",
       "      <th>4</th>\n",
       "      <td>/workspaces/python_env1/Creative_factory/the-c...</td>\n",
       "      <td>abnormal</td>\n",
       "      <td>[49, 44, -16, -38, 117, 102, -36, -27, 136, 35...</td>\n",
       "    </tr>\n",
       "  </tbody>\n",
       "</table>\n",
       "</div>"
      ],
      "text/plain": [
       "                                                path     label  \\\n",
       "0  /workspaces/python_env1/Creative_factory/the-c...  abnormal   \n",
       "1  /workspaces/python_env1/Creative_factory/the-c...  abnormal   \n",
       "2  /workspaces/python_env1/Creative_factory/the-c...  abnormal   \n",
       "3  /workspaces/python_env1/Creative_factory/the-c...  abnormal   \n",
       "4  /workspaces/python_env1/Creative_factory/the-c...  abnormal   \n",
       "\n",
       "                                                   x  \n",
       "0  [513, 349, 64, -77, 140, 211, -57, -206, -177,...  \n",
       "1  [-425, 1045, 518, -674, -690, -588, -237, -276...  \n",
       "2  [-643, -222, 1664, 3281, 2403, 1601, 987, -623...  \n",
       "3  [331, 950, 528, -393, -207, -435, -1038, -1068...  \n",
       "4  [49, 44, -16, -38, 117, 102, -36, -27, 136, 35...  "
      ]
     },
     "execution_count": 2,
     "metadata": {},
     "output_type": "execute_result"
    }
   ],
   "source": [
    "dataset = [{'path': path, 'label': path.split('/' )[6] } for path in glob.glob(\"/workspaces/python_env1/Creative_factory/the-circor-digiscope-phonocardiogram-dataset-1.0.3/AV/**/*.wav\")]\n",
    "df = pd.DataFrame.from_dict(dataset)\n",
    "print(dataset[0])\n",
    "\n",
    "# Add a column to store the data read from each wavfile...   \n",
    "df['x'] = df['path'].apply(lambda x: wavfile.read(x)[1])\n",
    "df.head()"
   ]
  },
  {
   "cell_type": "code",
   "execution_count": 3,
   "metadata": {},
   "outputs": [
    {
     "data": {
      "text/html": [
       "<div>\n",
       "<style scoped>\n",
       "    .dataframe tbody tr th:only-of-type {\n",
       "        vertical-align: middle;\n",
       "    }\n",
       "\n",
       "    .dataframe tbody tr th {\n",
       "        vertical-align: top;\n",
       "    }\n",
       "\n",
       "    .dataframe thead th {\n",
       "        text-align: right;\n",
       "    }\n",
       "</style>\n",
       "<table border=\"1\" class=\"dataframe\">\n",
       "  <thead>\n",
       "    <tr style=\"text-align: right;\">\n",
       "      <th></th>\n",
       "      <th>path</th>\n",
       "      <th>label</th>\n",
       "      <th>x</th>\n",
       "    </tr>\n",
       "  </thead>\n",
       "  <tbody>\n",
       "    <tr>\n",
       "      <th>0</th>\n",
       "      <td>/workspaces/python_env1/Creative_factory/the-c...</td>\n",
       "      <td>abnormal</td>\n",
       "      <td>[513.0, 349.0, 64.0, -77.0, 140.0, 211.0, -57....</td>\n",
       "    </tr>\n",
       "    <tr>\n",
       "      <th>1</th>\n",
       "      <td>/workspaces/python_env1/Creative_factory/the-c...</td>\n",
       "      <td>abnormal</td>\n",
       "      <td>[-425.0, 1045.0, 518.0, -674.0, -690.0, -588.0...</td>\n",
       "    </tr>\n",
       "    <tr>\n",
       "      <th>2</th>\n",
       "      <td>/workspaces/python_env1/Creative_factory/the-c...</td>\n",
       "      <td>abnormal</td>\n",
       "      <td>[-643.0, -222.0, 1664.0, 3281.0, 2403.0, 1601....</td>\n",
       "    </tr>\n",
       "    <tr>\n",
       "      <th>3</th>\n",
       "      <td>/workspaces/python_env1/Creative_factory/the-c...</td>\n",
       "      <td>abnormal</td>\n",
       "      <td>[331.0, 950.0, 528.0, -393.0, -207.0, -435.0, ...</td>\n",
       "    </tr>\n",
       "    <tr>\n",
       "      <th>4</th>\n",
       "      <td>/workspaces/python_env1/Creative_factory/the-c...</td>\n",
       "      <td>abnormal</td>\n",
       "      <td>[49.0, 44.0, -16.0, -38.0, 117.0, 102.0, -36.0...</td>\n",
       "    </tr>\n",
       "  </tbody>\n",
       "</table>\n",
       "</div>"
      ],
      "text/plain": [
       "                                                path     label  \\\n",
       "0  /workspaces/python_env1/Creative_factory/the-c...  abnormal   \n",
       "1  /workspaces/python_env1/Creative_factory/the-c...  abnormal   \n",
       "2  /workspaces/python_env1/Creative_factory/the-c...  abnormal   \n",
       "3  /workspaces/python_env1/Creative_factory/the-c...  abnormal   \n",
       "4  /workspaces/python_env1/Creative_factory/the-c...  abnormal   \n",
       "\n",
       "                                                   x  \n",
       "0  [513.0, 349.0, 64.0, -77.0, 140.0, 211.0, -57....  \n",
       "1  [-425.0, 1045.0, 518.0, -674.0, -690.0, -588.0...  \n",
       "2  [-643.0, -222.0, 1664.0, 3281.0, 2403.0, 1601....  \n",
       "3  [331.0, 950.0, 528.0, -393.0, -207.0, -435.0, ...  \n",
       "4  [49.0, 44.0, -16.0, -38.0, 117.0, 102.0, -36.0...  "
      ]
     },
     "execution_count": 3,
     "metadata": {},
     "output_type": "execute_result"
    }
   ],
   "source": [
    "#make the lenght of all audio files same by repeating audio file contents till its length is equal to max length audio file\n",
    "max_length = max(df['x'].apply(len))\n",
    "\n",
    "# Kaggle: What's in a heartbeat? - Peter Grenholm\n",
    "def repeat_to_length(arr, length):\n",
    "    \"\"\"Repeats the numpy 1D array to given length, and makes datatype float\"\"\"\n",
    "    result = np.empty((length, ), dtype = np.float32)\n",
    "    l = len(arr)\n",
    "    pos = 0\n",
    "    while pos + l <= length:\n",
    "        result[pos:pos+l] = arr\n",
    "        pos += l\n",
    "    if pos < length:\n",
    "        result[pos:length] = arr[:length-pos]\n",
    "    return result\n",
    "\n",
    "df['x'] = df['x'].apply(repeat_to_length, length=max_length)\n",
    "df.head()"
   ]
  },
  {
   "cell_type": "code",
   "execution_count": 4,
   "metadata": {},
   "outputs": [],
   "source": [
    "# Put the data into numpy arrays. Most machine learning libraries use numpy arrays.\n",
    "x = np.stack(df['x'].values, axis=0)\n",
    "y = np.stack(df['label'].values, axis=0)"
   ]
  },
  {
   "cell_type": "code",
   "execution_count": 5,
   "metadata": {},
   "outputs": [],
   "source": [
    "import librosa\n",
    "import librosa.display\n",
    "\n",
    "def calculate_melsp(x, n_fft=512, hop_length=128):\n",
    "    stft = np.abs(librosa.stft(x, n_fft=n_fft, hop_length=hop_length))**2\n",
    "    log_stft = librosa.power_to_db(stft)\n",
    "    melsp = librosa.feature.melspectrogram(S=log_stft, n_mels=128)\n",
    "    #melsp = np.mean(melsp, axis=2)\n",
    "    return melsp"
   ]
  },
  {
   "cell_type": "code",
   "execution_count": 6,
   "metadata": {},
   "outputs": [
    {
     "name": "stdout",
     "output_type": "stream",
     "text": [
      "x_train: (157, 258048), x_test: (158, 258048)\n",
      "x_train: (157, 128, 79), x_test: (158, 128, 79)\n",
      "x_train: (157, 128, 79), x_test: (158, 128, 79)\n"
     ]
    }
   ],
   "source": [
    "# Split the data into training and testing sets\n",
    "x_train, x_test, y_train, y_test, train_filenames, test_filenames = train_test_split(x, df['label'].values, df['path'].values, train_size = 0.2, test_size=0.2)\n",
    "print(\"x_train: {0}, x_test: {1}\".format(x_train.shape, x_test.shape))\n",
    "\n",
    "x_train = x_train[:, 40000:50000]\n",
    "\n",
    "x_test = x_test[:, 40000:50000]\n",
    "\n",
    "x_train = calculate_melsp(x_train)\n",
    "x_test = calculate_melsp(x_test)\n",
    "\n",
    "print(\"x_train: {0}, x_test: {1}\".format(x_train.shape, x_test.shape))\n",
    "\n",
    "\n",
    "print(\"x_train: {0}, x_test: {1}\".format(x_train.shape, x_test.shape))\n"
   ]
  },
  {
   "cell_type": "code",
   "execution_count": 12,
   "metadata": {},
   "outputs": [
    {
     "ename": "ValueError",
     "evalue": "Input 0 of layer \"conv2d_54\" is incompatible with the layer: expected min_ndim=4, found ndim=3. Full shape received: (None, 128, 79)",
     "output_type": "error",
     "traceback": [
      "\u001b[0;31m---------------------------------------------------------------------------\u001b[0m",
      "\u001b[0;31mValueError\u001b[0m                                Traceback (most recent call last)",
      "\u001b[1;32mセル7 を /workspaces/python_env1/Creative_factory/Heart_Sound_Classification-master/Audio Classification ANN CNN Keras/CNN_conv2d.ipynb\u001b[0m in \u001b[0;36m<cell line: 22>\u001b[0;34m()\u001b[0m\n\u001b[1;32m     <a href='vscode-notebook-cell://dev-container%2B2f686f6d652f6c61622f646f636b65722f707974686f6e5f656e7631/workspaces/python_env1/Creative_factory/Heart_Sound_Classification-master/Audio%20Classification%20ANN%20CNN%20Keras/CNN_conv2d.ipynb#X15sdnNjb2RlLXJlbW90ZQ%3D%3D?line=18'>19</a>\u001b[0m \u001b[39m# define CNN\u001b[39;00m\n\u001b[1;32m     <a href='vscode-notebook-cell://dev-container%2B2f686f6d652f6c61622f646f636b65722f707974686f6e5f656e7631/workspaces/python_env1/Creative_factory/Heart_Sound_Classification-master/Audio%20Classification%20ANN%20CNN%20Keras/CNN_conv2d.ipynb#X15sdnNjb2RlLXJlbW90ZQ%3D%3D?line=19'>20</a>\u001b[0m inputs \u001b[39m=\u001b[39m Input(shape\u001b[39m=\u001b[39m(x_train\u001b[39m.\u001b[39mshape[\u001b[39m1\u001b[39m:]))\n\u001b[0;32m---> <a href='vscode-notebook-cell://dev-container%2B2f686f6d652f6c61622f646f636b65722f707974686f6e5f656e7631/workspaces/python_env1/Creative_factory/Heart_Sound_Classification-master/Audio%20Classification%20ANN%20CNN%20Keras/CNN_conv2d.ipynb#X15sdnNjb2RlLXJlbW90ZQ%3D%3D?line=21'>22</a>\u001b[0m x_1 \u001b[39m=\u001b[39m cba(inputs, filters\u001b[39m=\u001b[39;49m\u001b[39m32\u001b[39;49m, kernel_size\u001b[39m=\u001b[39;49m(\u001b[39m1\u001b[39;49m,\u001b[39m8\u001b[39;49m), strides\u001b[39m=\u001b[39;49m(\u001b[39m1\u001b[39;49m,\u001b[39m2\u001b[39;49m))\n\u001b[1;32m     <a href='vscode-notebook-cell://dev-container%2B2f686f6d652f6c61622f646f636b65722f707974686f6e5f656e7631/workspaces/python_env1/Creative_factory/Heart_Sound_Classification-master/Audio%20Classification%20ANN%20CNN%20Keras/CNN_conv2d.ipynb#X15sdnNjb2RlLXJlbW90ZQ%3D%3D?line=22'>23</a>\u001b[0m x_1 \u001b[39m=\u001b[39m cba(x_1, filters\u001b[39m=\u001b[39m\u001b[39m32\u001b[39m, kernel_size\u001b[39m=\u001b[39m(\u001b[39m8\u001b[39m,\u001b[39m1\u001b[39m), strides\u001b[39m=\u001b[39m(\u001b[39m2\u001b[39m,\u001b[39m1\u001b[39m))\n\u001b[1;32m     <a href='vscode-notebook-cell://dev-container%2B2f686f6d652f6c61622f646f636b65722f707974686f6e5f656e7631/workspaces/python_env1/Creative_factory/Heart_Sound_Classification-master/Audio%20Classification%20ANN%20CNN%20Keras/CNN_conv2d.ipynb#X15sdnNjb2RlLXJlbW90ZQ%3D%3D?line=23'>24</a>\u001b[0m x_1 \u001b[39m=\u001b[39m cba(x_1, filters\u001b[39m=\u001b[39m\u001b[39m64\u001b[39m, kernel_size\u001b[39m=\u001b[39m(\u001b[39m1\u001b[39m,\u001b[39m8\u001b[39m), strides\u001b[39m=\u001b[39m(\u001b[39m1\u001b[39m,\u001b[39m2\u001b[39m))\n",
      "\u001b[1;32mセル7 を /workspaces/python_env1/Creative_factory/Heart_Sound_Classification-master/Audio Classification ANN CNN Keras/CNN_conv2d.ipynb\u001b[0m in \u001b[0;36mcba\u001b[0;34m(inputs, filters, kernel_size, strides)\u001b[0m\n\u001b[1;32m     <a href='vscode-notebook-cell://dev-container%2B2f686f6d652f6c61622f646f636b65722f707974686f6e5f656e7631/workspaces/python_env1/Creative_factory/Heart_Sound_Classification-master/Audio%20Classification%20ANN%20CNN%20Keras/CNN_conv2d.ipynb#X15sdnNjb2RlLXJlbW90ZQ%3D%3D?line=12'>13</a>\u001b[0m \u001b[39mdef\u001b[39;00m \u001b[39mcba\u001b[39m(inputs, filters, kernel_size, strides):\n\u001b[0;32m---> <a href='vscode-notebook-cell://dev-container%2B2f686f6d652f6c61622f646f636b65722f707974686f6e5f656e7631/workspaces/python_env1/Creative_factory/Heart_Sound_Classification-master/Audio%20Classification%20ANN%20CNN%20Keras/CNN_conv2d.ipynb#X15sdnNjb2RlLXJlbW90ZQ%3D%3D?line=13'>14</a>\u001b[0m     x \u001b[39m=\u001b[39m Conv2D(filters, kernel_size\u001b[39m=\u001b[39;49mkernel_size, strides\u001b[39m=\u001b[39;49mstrides, padding\u001b[39m=\u001b[39;49m\u001b[39m'\u001b[39;49m\u001b[39msame\u001b[39;49m\u001b[39m'\u001b[39;49m)(inputs)\n\u001b[1;32m     <a href='vscode-notebook-cell://dev-container%2B2f686f6d652f6c61622f646f636b65722f707974686f6e5f656e7631/workspaces/python_env1/Creative_factory/Heart_Sound_Classification-master/Audio%20Classification%20ANN%20CNN%20Keras/CNN_conv2d.ipynb#X15sdnNjb2RlLXJlbW90ZQ%3D%3D?line=14'>15</a>\u001b[0m     x \u001b[39m=\u001b[39m BatchNormalization()(x)\n\u001b[1;32m     <a href='vscode-notebook-cell://dev-container%2B2f686f6d652f6c61622f646f636b65722f707974686f6e5f656e7631/workspaces/python_env1/Creative_factory/Heart_Sound_Classification-master/Audio%20Classification%20ANN%20CNN%20Keras/CNN_conv2d.ipynb#X15sdnNjb2RlLXJlbW90ZQ%3D%3D?line=15'>16</a>\u001b[0m     x \u001b[39m=\u001b[39m Activation(\u001b[39m\"\u001b[39m\u001b[39mrelu\u001b[39m\u001b[39m\"\u001b[39m)(x)\n",
      "File \u001b[0;32m/usr/local/lib/python3.8/dist-packages/keras/utils/traceback_utils.py:67\u001b[0m, in \u001b[0;36mfilter_traceback.<locals>.error_handler\u001b[0;34m(*args, **kwargs)\u001b[0m\n\u001b[1;32m     65\u001b[0m \u001b[39mexcept\u001b[39;00m \u001b[39mException\u001b[39;00m \u001b[39mas\u001b[39;00m e:  \u001b[39m# pylint: disable=broad-except\u001b[39;00m\n\u001b[1;32m     66\u001b[0m   filtered_tb \u001b[39m=\u001b[39m _process_traceback_frames(e\u001b[39m.\u001b[39m__traceback__)\n\u001b[0;32m---> 67\u001b[0m   \u001b[39mraise\u001b[39;00m e\u001b[39m.\u001b[39mwith_traceback(filtered_tb) \u001b[39mfrom\u001b[39;00m \u001b[39mNone\u001b[39m\n\u001b[1;32m     68\u001b[0m \u001b[39mfinally\u001b[39;00m:\n\u001b[1;32m     69\u001b[0m   \u001b[39mdel\u001b[39;00m filtered_tb\n",
      "File \u001b[0;32m/usr/local/lib/python3.8/dist-packages/keras/engine/input_spec.py:228\u001b[0m, in \u001b[0;36massert_input_compatibility\u001b[0;34m(input_spec, inputs, layer_name)\u001b[0m\n\u001b[1;32m    226\u001b[0m   ndim \u001b[39m=\u001b[39m x\u001b[39m.\u001b[39mshape\u001b[39m.\u001b[39mrank\n\u001b[1;32m    227\u001b[0m   \u001b[39mif\u001b[39;00m ndim \u001b[39mis\u001b[39;00m \u001b[39mnot\u001b[39;00m \u001b[39mNone\u001b[39;00m \u001b[39mand\u001b[39;00m ndim \u001b[39m<\u001b[39m spec\u001b[39m.\u001b[39mmin_ndim:\n\u001b[0;32m--> 228\u001b[0m     \u001b[39mraise\u001b[39;00m \u001b[39mValueError\u001b[39;00m(\u001b[39mf\u001b[39m\u001b[39m'\u001b[39m\u001b[39mInput \u001b[39m\u001b[39m{\u001b[39;00minput_index\u001b[39m}\u001b[39;00m\u001b[39m of layer \u001b[39m\u001b[39m\"\u001b[39m\u001b[39m{\u001b[39;00mlayer_name\u001b[39m}\u001b[39;00m\u001b[39m\"\u001b[39m\u001b[39m \u001b[39m\u001b[39m'\u001b[39m\n\u001b[1;32m    229\u001b[0m                      \u001b[39m'\u001b[39m\u001b[39mis incompatible with the layer: \u001b[39m\u001b[39m'\u001b[39m\n\u001b[1;32m    230\u001b[0m                      \u001b[39mf\u001b[39m\u001b[39m'\u001b[39m\u001b[39mexpected min_ndim=\u001b[39m\u001b[39m{\u001b[39;00mspec\u001b[39m.\u001b[39mmin_ndim\u001b[39m}\u001b[39;00m\u001b[39m, \u001b[39m\u001b[39m'\u001b[39m\n\u001b[1;32m    231\u001b[0m                      \u001b[39mf\u001b[39m\u001b[39m'\u001b[39m\u001b[39mfound ndim=\u001b[39m\u001b[39m{\u001b[39;00mndim\u001b[39m}\u001b[39;00m\u001b[39m. \u001b[39m\u001b[39m'\u001b[39m\n\u001b[1;32m    232\u001b[0m                      \u001b[39mf\u001b[39m\u001b[39m'\u001b[39m\u001b[39mFull shape received: \u001b[39m\u001b[39m{\u001b[39;00m\u001b[39mtuple\u001b[39m(shape)\u001b[39m}\u001b[39;00m\u001b[39m'\u001b[39m)\n\u001b[1;32m    233\u001b[0m \u001b[39m# Check dtype.\u001b[39;00m\n\u001b[1;32m    234\u001b[0m \u001b[39mif\u001b[39;00m spec\u001b[39m.\u001b[39mdtype \u001b[39mis\u001b[39;00m \u001b[39mnot\u001b[39;00m \u001b[39mNone\u001b[39;00m:\n",
      "\u001b[0;31mValueError\u001b[0m: Input 0 of layer \"conv2d_54\" is incompatible with the layer: expected min_ndim=4, found ndim=3. Full shape received: (None, 128, 79)"
     ]
    }
   ],
   "source": [
    "\n",
    "import keras\n",
    "from keras.models import Model\n",
    "from keras.layers import Input, Dense, Dropout, Activation\n",
    "from keras.layers import Conv2D, GlobalAveragePooling2D\n",
    "from keras.layers import BatchNormalization, Add\n",
    "from keras.callbacks import EarlyStopping, ModelCheckpoint\n",
    "\n",
    "# redefine target data into one hot vector\n",
    "classes = 2\n",
    "#y_train = keras.utils.to_categorical(y_train, classes)\n",
    "#y_test = keras.utils.to_categorical(y_test, classes)\n",
    "\n",
    "def cba(inputs, filters, kernel_size, strides):\n",
    "    x = Conv2D(filters, kernel_size=kernel_size, strides=strides, padding='same')(inputs)\n",
    "    x = BatchNormalization()(x)\n",
    "    x = Activation(\"relu\")(x)\n",
    "    return x\n",
    "\n",
    "# define CNN\n",
    "inputs = Input(shape=(x_train.shape[1:]))\n",
    "\n",
    "x_1 = cba(inputs, filters=32, kernel_size=(1,8), strides=(1,2))\n",
    "x_1 = cba(x_1, filters=32, kernel_size=(8,1), strides=(2,1))\n",
    "x_1 = cba(x_1, filters=64, kernel_size=(1,8), strides=(1,2))\n",
    "x_1 = cba(x_1, filters=64, kernel_size=(8,1), strides=(2,1))\n",
    "\n",
    "x_2 = cba(inputs, filters=32, kernel_size=(1,16), strides=(1,2))\n",
    "x_2 = cba(x_2, filters=32, kernel_size=(16,1), strides=(2,1))\n",
    "x_2 = cba(x_2, filters=64, kernel_size=(1,16), strides=(1,2))\n",
    "x_2 = cba(x_2, filters=64, kernel_size=(16,1), strides=(2,1))\n",
    "\n",
    "x_3 = cba(inputs, filters=32, kernel_size=(1,32), strides=(1,2))\n",
    "x_3 = cba(x_3, filters=32, kernel_size=(32,1), strides=(2,1))\n",
    "x_3 = cba(x_3, filters=64, kernel_size=(1,32), strides=(1,2))\n",
    "x_3 = cba(x_3, filters=64, kernel_size=(32,1), strides=(2,1))\n",
    "\n",
    "x_4 = cba(inputs, filters=32, kernel_size=(1,64), strides=(1,2))\n",
    "x_4 = cba(x_4, filters=32, kernel_size=(64,1), strides=(2,1))\n",
    "x_4 = cba(x_4, filters=64, kernel_size=(1,64), strides=(1,2))\n",
    "x_4 = cba(x_4, filters=64, kernel_size=(64,1), strides=(2,1))\n",
    "\n",
    "x = Add()([x_1, x_2, x_3, x_4])\n",
    "\n",
    "x = cba(x, filters=128, kernel_size=(1,16), strides=(1,2))\n",
    "x = cba(x, filters=128, kernel_size=(16,1), strides=(2,1))\n",
    "\n",
    "x = GlobalAveragePooling2D()(x)\n",
    "x = Dense(classes)(x)\n",
    "x = Activation(\"softmax\")(x)\n",
    "\n",
    "model = Model(inputs, x)\n",
    "\n",
    "# initiate Adam optimizer\n",
    "opt = keras.optimizers.Adam(learning_rate=0.00001, decay=1e-6, amsgrad=True)\n",
    "\n",
    "# Let's train the model using Adam with amsgrad\n",
    "model.compile(loss='categorical_crossentropy',\n",
    "              optimizer=opt,\n",
    "              metrics=['accuracy'])\n",
    "\n",
    "model.summary()\n"
   ]
  },
  {
   "cell_type": "code",
   "execution_count": null,
   "metadata": {},
   "outputs": [
    {
     "name": "stdout",
     "output_type": "stream",
     "text": [
      "y_train_class_names: ['normal' 'abnormal']\n",
      "y_test_class_names: ['normal' 'abnormal']\n",
      "Epoch 1/300\n"
     ]
    },
    {
     "ename": "ValueError",
     "evalue": "in user code:\n\n    File \"/usr/local/lib/python3.8/dist-packages/keras/engine/training.py\", line 1051, in train_function  *\n        return step_function(self, iterator)\n    File \"/usr/local/lib/python3.8/dist-packages/keras/engine/training.py\", line 1040, in step_function  **\n        outputs = model.distribute_strategy.run(run_step, args=(data,))\n    File \"/usr/local/lib/python3.8/dist-packages/keras/engine/training.py\", line 1030, in run_step  **\n        outputs = model.train_step(data)\n    File \"/usr/local/lib/python3.8/dist-packages/keras/engine/training.py\", line 889, in train_step\n        y_pred = self(x, training=True)\n    File \"/usr/local/lib/python3.8/dist-packages/keras/utils/traceback_utils.py\", line 67, in error_handler\n        raise e.with_traceback(filtered_tb) from None\n    File \"/usr/local/lib/python3.8/dist-packages/keras/engine/input_spec.py\", line 264, in assert_input_compatibility\n        raise ValueError(f'Input {input_index} of layer \"{layer_name}\" is '\n\n    ValueError: Input 0 of layer \"model_2\" is incompatible with the layer: expected shape=(None, 157, 128, 79), found shape=(None, 128, 79)\n",
     "output_type": "error",
     "traceback": [
      "\u001b[0;31m---------------------------------------------------------------------------\u001b[0m",
      "\u001b[0;31mValueError\u001b[0m                                Traceback (most recent call last)",
      "\u001b[1;32mセル8 を /workspaces/python_env1/Creative_factory/Heart_Sound_Classification-master/Audio Classification ANN CNN Keras/CNN_conv2d.ipynb\u001b[0m in \u001b[0;36m<cell line: 10>\u001b[0;34m()\u001b[0m\n\u001b[1;32m      <a href='vscode-notebook-cell://dev-container%2B2f686f6d652f6c61622f646f636b65722f707974686f6e5f656e7631/workspaces/python_env1/Creative_factory/Heart_Sound_Classification-master/Audio%20Classification%20ANN%20CNN%20Keras/CNN_conv2d.ipynb#X16sdnNjb2RlLXJlbW90ZQ%3D%3D?line=6'>7</a>\u001b[0m y_train_hot \u001b[39m=\u001b[39m tf\u001b[39m.\u001b[39mkeras\u001b[39m.\u001b[39mutils\u001b[39m.\u001b[39mto_categorical(y_train_int_categories)\n\u001b[1;32m      <a href='vscode-notebook-cell://dev-container%2B2f686f6d652f6c61622f646f636b65722f707974686f6e5f656e7631/workspaces/python_env1/Creative_factory/Heart_Sound_Classification-master/Audio%20Classification%20ANN%20CNN%20Keras/CNN_conv2d.ipynb#X16sdnNjb2RlLXJlbW90ZQ%3D%3D?line=7'>8</a>\u001b[0m y_test_hot \u001b[39m=\u001b[39m tf\u001b[39m.\u001b[39mkeras\u001b[39m.\u001b[39mutils\u001b[39m.\u001b[39mto_categorical(y_test_int_categories)\n\u001b[0;32m---> <a href='vscode-notebook-cell://dev-container%2B2f686f6d652f6c61622f646f636b65722f707974686f6e5f656e7631/workspaces/python_env1/Creative_factory/Heart_Sound_Classification-master/Audio%20Classification%20ANN%20CNN%20Keras/CNN_conv2d.ipynb#X16sdnNjb2RlLXJlbW90ZQ%3D%3D?line=9'>10</a>\u001b[0m hist \u001b[39m=\u001b[39m model\u001b[39m.\u001b[39;49mfit(x_train, y_train_hot, \n\u001b[1;32m     <a href='vscode-notebook-cell://dev-container%2B2f686f6d652f6c61622f646f636b65722f707974686f6e5f656e7631/workspaces/python_env1/Creative_factory/Heart_Sound_Classification-master/Audio%20Classification%20ANN%20CNN%20Keras/CNN_conv2d.ipynb#X16sdnNjb2RlLXJlbW90ZQ%3D%3D?line=10'>11</a>\u001b[0m                 epochs\u001b[39m=\u001b[39;49m\u001b[39m300\u001b[39;49m,\n\u001b[1;32m     <a href='vscode-notebook-cell://dev-container%2B2f686f6d652f6c61622f646f636b65722f707974686f6e5f656e7631/workspaces/python_env1/Creative_factory/Heart_Sound_Classification-master/Audio%20Classification%20ANN%20CNN%20Keras/CNN_conv2d.ipynb#X16sdnNjb2RlLXJlbW90ZQ%3D%3D?line=11'>12</a>\u001b[0m                 validation_data\u001b[39m=\u001b[39;49m(x_test, y_test_hot), verbose\u001b[39m=\u001b[39;49m\u001b[39m1\u001b[39;49m)\n",
      "File \u001b[0;32m/usr/local/lib/python3.8/dist-packages/keras/utils/traceback_utils.py:67\u001b[0m, in \u001b[0;36mfilter_traceback.<locals>.error_handler\u001b[0;34m(*args, **kwargs)\u001b[0m\n\u001b[1;32m     65\u001b[0m \u001b[39mexcept\u001b[39;00m \u001b[39mException\u001b[39;00m \u001b[39mas\u001b[39;00m e:  \u001b[39m# pylint: disable=broad-except\u001b[39;00m\n\u001b[1;32m     66\u001b[0m   filtered_tb \u001b[39m=\u001b[39m _process_traceback_frames(e\u001b[39m.\u001b[39m__traceback__)\n\u001b[0;32m---> 67\u001b[0m   \u001b[39mraise\u001b[39;00m e\u001b[39m.\u001b[39mwith_traceback(filtered_tb) \u001b[39mfrom\u001b[39;00m \u001b[39mNone\u001b[39m\n\u001b[1;32m     68\u001b[0m \u001b[39mfinally\u001b[39;00m:\n\u001b[1;32m     69\u001b[0m   \u001b[39mdel\u001b[39;00m filtered_tb\n",
      "File \u001b[0;32m/tmp/__autograph_generated_fileak3c2qeh.py:15\u001b[0m, in \u001b[0;36mouter_factory.<locals>.inner_factory.<locals>.tf__train_function\u001b[0;34m(iterator)\u001b[0m\n\u001b[1;32m     13\u001b[0m \u001b[39mtry\u001b[39;00m:\n\u001b[1;32m     14\u001b[0m     do_return \u001b[39m=\u001b[39m \u001b[39mTrue\u001b[39;00m\n\u001b[0;32m---> 15\u001b[0m     retval_ \u001b[39m=\u001b[39m ag__\u001b[39m.\u001b[39mconverted_call(ag__\u001b[39m.\u001b[39mld(step_function), (ag__\u001b[39m.\u001b[39mld(\u001b[39mself\u001b[39m), ag__\u001b[39m.\u001b[39mld(iterator)), \u001b[39mNone\u001b[39;00m, fscope)\n\u001b[1;32m     16\u001b[0m \u001b[39mexcept\u001b[39;00m:\n\u001b[1;32m     17\u001b[0m     do_return \u001b[39m=\u001b[39m \u001b[39mFalse\u001b[39;00m\n",
      "\u001b[0;31mValueError\u001b[0m: in user code:\n\n    File \"/usr/local/lib/python3.8/dist-packages/keras/engine/training.py\", line 1051, in train_function  *\n        return step_function(self, iterator)\n    File \"/usr/local/lib/python3.8/dist-packages/keras/engine/training.py\", line 1040, in step_function  **\n        outputs = model.distribute_strategy.run(run_step, args=(data,))\n    File \"/usr/local/lib/python3.8/dist-packages/keras/engine/training.py\", line 1030, in run_step  **\n        outputs = model.train_step(data)\n    File \"/usr/local/lib/python3.8/dist-packages/keras/engine/training.py\", line 889, in train_step\n        y_pred = self(x, training=True)\n    File \"/usr/local/lib/python3.8/dist-packages/keras/utils/traceback_utils.py\", line 67, in error_handler\n        raise e.with_traceback(filtered_tb) from None\n    File \"/usr/local/lib/python3.8/dist-packages/keras/engine/input_spec.py\", line 264, in assert_input_compatibility\n        raise ValueError(f'Input {input_index} of layer \"{layer_name}\" is '\n\n    ValueError: Input 0 of layer \"model_2\" is incompatible with the layer: expected shape=(None, 157, 128, 79), found shape=(None, 128, 79)\n"
     ]
    }
   ],
   "source": [
    "# Need to convert y labels into one-hot encoded vectors\n",
    "y_train_int_categories, y_train_class_names = pd.factorize(y_train)\n",
    "print(\"y_train_class_names: {0}\".format(y_train_class_names))\n",
    "\n",
    "y_test_int_categories, y_test_class_names = pd.factorize(y_test)\n",
    "print(\"y_test_class_names: {0}\".format(y_test_class_names))\n",
    "y_train_hot = tf.keras.utils.to_categorical(y_train_int_categories)\n",
    "y_test_hot = tf.keras.utils.to_categorical(y_test_int_categories)\n",
    "\n",
    "hist = model.fit(x_train, y_train_hot, \n",
    "                epochs=50,\n",
    "                validation_data=(x_test, y_test_hot), verbose=1)"
   ]
  },
  {
   "cell_type": "code",
   "execution_count": null,
   "metadata": {},
   "outputs": [
    {
     "ename": "NameError",
     "evalue": "name 'hist' is not defined",
     "output_type": "error",
     "traceback": [
      "\u001b[0;31m---------------------------------------------------------------------------\u001b[0m",
      "\u001b[0;31mNameError\u001b[0m                                 Traceback (most recent call last)",
      "\u001b[1;32mセル8 を /workspaces/python_env1/Creative_factory/Heart_Sound_Classification-master/Audio Classification ANN CNN Keras/CNN_conv2d.ipynb\u001b[0m in \u001b[0;36m<cell line: 1>\u001b[0;34m()\u001b[0m\n\u001b[0;32m----> <a href='vscode-notebook-cell://dev-container%2B2f686f6d652f6c61622f646f636b65722f707974686f6e5f656e7631/workspaces/python_env1/Creative_factory/Heart_Sound_Classification-master/Audio%20Classification%20ANN%20CNN%20Keras/CNN_conv2d.ipynb#X13sdnNjb2RlLXJlbW90ZQ%3D%3D?line=0'>1</a>\u001b[0m accuracy \u001b[39m=\u001b[39m hist\u001b[39m.\u001b[39mhistory[\u001b[39m'\u001b[39m\u001b[39maccuracy\u001b[39m\u001b[39m'\u001b[39m]\n\u001b[1;32m      <a href='vscode-notebook-cell://dev-container%2B2f686f6d652f6c61622f646f636b65722f707974686f6e5f656e7631/workspaces/python_env1/Creative_factory/Heart_Sound_Classification-master/Audio%20Classification%20ANN%20CNN%20Keras/CNN_conv2d.ipynb#X13sdnNjb2RlLXJlbW90ZQ%3D%3D?line=1'>2</a>\u001b[0m loss \u001b[39m=\u001b[39m hist\u001b[39m.\u001b[39mhistory[\u001b[39m'\u001b[39m\u001b[39mloss\u001b[39m\u001b[39m'\u001b[39m]\n\u001b[1;32m      <a href='vscode-notebook-cell://dev-container%2B2f686f6d652f6c61622f646f636b65722f707974686f6e5f656e7631/workspaces/python_env1/Creative_factory/Heart_Sound_Classification-master/Audio%20Classification%20ANN%20CNN%20Keras/CNN_conv2d.ipynb#X13sdnNjb2RlLXJlbW90ZQ%3D%3D?line=2'>3</a>\u001b[0m val_accuracy \u001b[39m=\u001b[39m hist\u001b[39m.\u001b[39mhistory[\u001b[39m'\u001b[39m\u001b[39mval_accuracy\u001b[39m\u001b[39m'\u001b[39m]\n",
      "\u001b[0;31mNameError\u001b[0m: name 'hist' is not defined"
     ]
    }
   ],
   "source": [
    "accuracy = hist.history['accuracy']\n",
    "loss = hist.history['loss']\n",
    "val_accuracy = hist.history['val_accuracy']\n",
    "val_loss = hist.history['val_loss']\n",
    "\n",
    "plt.figure(1, figsize=(10, 5))\n",
    "plt.title('CNN - Accuracy Curves')\n",
    "plt.plot(accuracy, c='m')\n",
    "plt.ylabel('accuracy')\n",
    "plt.xlabel('epoch')\n",
    "\n",
    "plt.figure(2, figsize=(10, 5))\n",
    "plt.title('CNN - Loss Curves')\n",
    "plt.plot(loss, c='m')\n",
    "plt.ylabel('loss')\n",
    "plt.xlabel('epoch')\n",
    "\n",
    "plt.figure(3, figsize=(10, 5))\n",
    "plt.title('CNN - val_Accuracy Curves')\n",
    "plt.plot(val_accuracy, c='m')\n",
    "plt.ylabel('accuracy')\n",
    "plt.xlabel('epoch')\n",
    "\n",
    "plt.figure(4, figsize=(10, 5))\n",
    "plt.title('CNN - val_Loss Curves')\n",
    "plt.plot(val_loss, c='m')\n",
    "plt.ylabel('loss')\n",
    "plt.xlabel('epoch')\n",
    "\n",
    "plt.show()"
   ]
  }
 ],
 "metadata": {
  "kernelspec": {
   "display_name": "Python 3.8.10 64-bit",
   "language": "python",
   "name": "python3"
  },
  "language_info": {
   "codemirror_mode": {
    "name": "ipython",
    "version": 3
   },
   "file_extension": ".py",
   "mimetype": "text/x-python",
   "name": "python",
   "nbconvert_exporter": "python",
   "pygments_lexer": "ipython3",
   "version": "3.8.10"
  },
  "orig_nbformat": 4,
  "vscode": {
   "interpreter": {
    "hash": "916dbcbb3f70747c44a77c7bcd40155683ae19c65e1c03b4aa3499c5328201f1"
   }
  }
 },
 "nbformat": 4,
 "nbformat_minor": 2
}

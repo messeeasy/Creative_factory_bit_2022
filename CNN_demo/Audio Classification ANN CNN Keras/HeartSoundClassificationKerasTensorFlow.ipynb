{
 "cells": [
  {
   "cell_type": "markdown",
   "metadata": {},
   "source": [
    "# Heart sound classification Keras\n",
    "\n"
   ]
  },
  {
   "cell_type": "code",
   "execution_count": 1,
   "metadata": {},
   "outputs": [
    {
     "name": "stderr",
     "output_type": "stream",
     "text": [
      "C:\\Users\\apt\\Anaconda3\\envs\\ml\\lib\\site-packages\\h5py\\__init__.py:36: FutureWarning: Conversion of the second argument of issubdtype from `float` to `np.floating` is deprecated. In future, it will be treated as `np.float64 == np.dtype(float).type`.\n",
      "  from ._conv import register_converters as _register_converters\n",
      "Using TensorFlow backend.\n"
     ]
    }
   ],
   "source": [
    "import glob\n",
    "import os\n",
    "import librosa\n",
    "import librosa.display\n",
    "import numpy as np\n",
    "import tensorflow as tf\n",
    "import matplotlib.pyplot as plt\n",
    "from matplotlib.pyplot import specgram\n",
    "from keras.utils.np_utils import to_categorical\n",
    "from sklearn.metrics import precision_recall_fscore_support\n",
    "from numpy import array\n",
    "from numpy import argmax \n",
    "import pandas as pd\n",
    "from sklearn.preprocessing import LabelEncoder\n",
    "from sklearn.preprocessing import OneHotEncoder\n",
    "from keras.layers import Dense, Dropout, Flatten, Conv1D, MaxPooling2D\n",
    "from keras.layers.advanced_activations import LeakyReLU, PReLU\n",
    "from sklearn.model_selection import RandomizedSearchCV"
   ]
  },
  {
   "cell_type": "markdown",
   "metadata": {},
   "source": [
    "# Extracting features from audio files"
   ]
  },
  {
   "cell_type": "markdown",
   "metadata": {},
   "source": [
    "The parse audio funtion takes all the files divided into subfolders with their class label names and extract features does extract meaningful features from each audio file."
   ]
  },
  {
   "cell_type": "code",
   "execution_count": 2,
   "metadata": {},
   "outputs": [],
   "source": [
    "def extract_feature(file_name):\n",
    "    X, sample_rate = librosa.load(file_name)\n",
    "    stft = np.abs(librosa.stft(X))\n",
    "    mfccs = np.mean(librosa.feature.mfcc(y=X, sr=sample_rate, n_mfcc=40).T,axis=0)\n",
    "    chroma = np.mean(librosa.feature.chroma_stft(S=stft, sr=sample_rate).T,axis=0)\n",
    "    mel = np.mean(librosa.feature.melspectrogram(X, sr=sample_rate).T,axis=0)\n",
    "    contrast = np.mean(librosa.feature.spectral_contrast(S=stft, sr=sample_rate).T,axis=0)\n",
    "    tonnetz = np.mean(librosa.feature.tonnetz(y=librosa.effects.harmonic(X), sr=sample_rate).T,axis=0)\n",
    "    return mfccs,chroma,mel,contrast,tonnetz\n",
    "\n",
    "def parse_audio_files(parent_dir,sub_dirs,file_ext='*.wav'):\n",
    "    features, labels = np.empty((0,193)), np.empty(0)\n",
    "    for label, sub_dir in enumerate(sub_dirs):\n",
    "        for fn in glob.glob(os.path.join(parent_dir, sub_dir, file_ext)):\n",
    "            mfccs, chroma, mel, contrast,tonnetz = extract_feature(fn)\n",
    "            #Stack arrays in sequence horizontally (column wise).\n",
    "            #a = np.array((1,2,3)) b = np.array((2,3,4))\n",
    "            #np.hstack((a,b))  array([1, 2, 3, 2, 3, 4])\n",
    "            ext_features = np.hstack([mfccs,chroma,mel,contrast,tonnetz])\n",
    "            #Stack arrays in sequence vertically (row wise). So each audio files features are saved in new rows\n",
    "            features = np.vstack([features,ext_features]) \n",
    "            print(fn.split('/')[4].split(\"\\\\\")[1])\n",
    "            labels = np.append(labels, fn.split('/')[4].split(\"\\\\\")[1])\n",
    "            #labels = np.append(labels, fn.split('/')[6].split('-')[2][0])\n",
    "    return np.array(features), np.array(labels)\n"
   ]
  },
  {
   "cell_type": "code",
   "execution_count": null,
   "metadata": {},
   "outputs": [],
   "source": [
    "parent_dir = 'C:/Users/apt/Desktop/physionet'\n",
    "sub_dirs = ['testmur','testnorm']\n",
    "features, labels = parse_audio_files(parent_dir,sub_dirs)"
   ]
  },
  {
   "cell_type": "markdown",
   "metadata": {},
   "source": [
    "\n",
    "Saved the features in NP array so as reuse and avoid repeated time consuming feature extraction"
   ]
  },
  {
   "cell_type": "code",
   "execution_count": 4,
   "metadata": {},
   "outputs": [],
   "source": [
    "\n",
    "np.save(\"TestRecordedNormalJhonMurmurFeatures\" + '.npy', features)\n",
    "np.save(\"TestRecordedNormalJhonMurmurLabels\" + '.npy', labels)\n"
   ]
  },
  {
   "cell_type": "code",
   "execution_count": 10,
   "metadata": {},
   "outputs": [
    {
     "name": "stdout",
     "output_type": "stream",
     "text": [
      "========================The extracted features================\n",
      "[[-3.86631022e+02  1.78301213e+02  6.85775411e+01 ...  1.33809307e-02\n",
      "   3.61587288e-03  1.16107564e-02]\n",
      " [-3.92341076e+02  1.79758613e+02  6.16161795e+01 ...  2.73219725e-02\n",
      "   1.05619922e-03  1.78745035e-02]\n",
      " [-4.01152468e+02  1.69678650e+02  6.85314371e+01 ...  1.21206933e-02\n",
      "   4.79127069e-03  1.23095707e-02]\n",
      " ...\n",
      " [-4.53560591e+02  1.50814845e+02  1.05998614e+02 ...  3.75065411e-02\n",
      "   1.16891035e-02  1.23915670e-02]\n",
      " [-4.46932479e+02  1.71429773e+02  1.17186192e+02 ...  1.11238218e-02\n",
      "   4.40638816e-03  4.38996250e-03]\n",
      " [-4.72077197e+02  1.46631426e+02  1.06092229e+02 ...  2.86870771e-02\n",
      "   7.12759197e-03  1.56826852e-02]]\n",
      "==============================================================\n",
      "=====The labels of classification in categorical variable======\n",
      "['normal' 'normal' 'normal' ... 'abnormal' 'abnormal' 'abnormal']\n",
      "===================Labels converted to binary ==============================\n",
      "[1 1 1 ... 0 0 0]\n",
      "=====Then to one hot encoding as ML algorithms cannot work with categorical data directly=====\n",
      "[[0. 1.]\n",
      " [0. 1.]\n",
      " [0. 1.]\n",
      " ...\n",
      " [1. 0.]\n",
      " [1. 0.]\n",
      " [1. 0.]]\n",
      "[ True  True False ...  True  True  True]\n",
      "===================Input shape ==============================\n",
      "(1825, 193)\n",
      "(1825, 2)\n"
     ]
    }
   ],
   "source": [
    "\n",
    "features = np.load(\"Trainingpsypeter2Features\"+ '.npy')\n",
    "labels = np.load(\"Trainingpsypeter2Labels\" + '.npy')\n",
    "\n",
    "Testfeatures = np.load(\"TestRecordedNormalJhonMurmurFeatures\"+ '.npy')\n",
    "testLabels = np.load(\"TestRecordedNormalJhonMurmurLabels\" + '.npy')\n",
    "\n",
    "print(\"========================The extracted features================\")\n",
    "\n",
    "print(features)\n",
    "print(\"==============================================================\")\n",
    "print(\"=====The labels of classification in categorical variable======\")\n",
    "print(labels)\n",
    "print(\"===================Labels converted to binary ==============================\")\n",
    "label_encoder = LabelEncoder()\n",
    "integer_encoded = label_encoder.fit_transform(labels)\n",
    "print(integer_encoded)\n",
    "onehot_encoder = OneHotEncoder(sparse=False)\n",
    "integer_encoded = integer_encoded.reshape(len(integer_encoded), 1)\n",
    "labels = onehot_encoder.fit_transform(integer_encoded)\n",
    "\n",
    "print(\"=====Then to one hot encoding as ML algorithms cannot work with categorical data directly=====\")\n",
    "\n",
    "print(labels)\n",
    "# invert first example\n",
    "#inverted = label_encoder.inverse_transform([argmax(onehot_encoded[::-1])])\n",
    "#print(inverted)\n",
    "#labels = tf.keras.utils.to_categorical(labels, 3)\n",
    "#train_test_split = np.random.rand(len(features)) < 0.70\n",
    "train_x = features[train_test_split]\n",
    "train_y = labels[train_test_split]\n",
    "print(train_test_split)\n",
    "test_x = features[~train_test_split]\n",
    "test_y = labels[~train_test_split]\n",
    "print(\"===================Input shape ==============================\")\n",
    "#features = np.asarray(features).reshape(len(features),193,1)\n",
    "#labels = np.asarray(labels).reshape(len(labels),2,1)\n",
    "print(features.shape)\n",
    "print(labels.shape)\n",
    "\n"
   ]
  },
  {
   "cell_type": "markdown",
   "metadata": {},
   "source": [
    "# Tensorflow approch"
   ]
  },
  {
   "cell_type": "markdown",
   "metadata": {},
   "source": [
    "Initially have built Artificial Neural network thorugh Tensor flow"
   ]
  },
  {
   "cell_type": "code",
   "execution_count": 11,
   "metadata": {},
   "outputs": [
    {
     "name": "stdout",
     "output_type": "stream",
     "text": [
      "(1825, 193)\n",
      "193\n"
     ]
    }
   ],
   "source": [
    "training_epochs = 2000\n",
    "n_dim = features.shape[1]\n",
    "print(features.shape)\n",
    "print(features.shape[1])\n",
    "n_classes = 2\n",
    "n_hidden_units_one = 300 \n",
    "n_hidden_units_two = 400\n",
    "n_hidden_units_three = 350\n",
    "sd = 1 / np.sqrt(n_dim)\n",
    "learning_rate = 0.01"
   ]
  },
  {
   "cell_type": "code",
   "execution_count": 7,
   "metadata": {
    "collapsed": true
   },
   "outputs": [],
   "source": [
    "X = tf.placeholder(tf.float32,[None,n_dim])\n",
    "Y = tf.placeholder(tf.float32,[None,n_classes])\n",
    "\n",
    "\n",
    "W_1 = tf.Variable(tf.random_normal([n_dim,n_hidden_units_one], mean = 0, stddev=sd))\n",
    "b_1 = tf.Variable(tf.random_normal([n_hidden_units_one], mean = 0, stddev=sd))\n",
    "h_1 = tf.nn.relu(tf.matmul(X,W_1) + b_1)\n",
    "\n",
    "\n",
    "W_2 = tf.Variable(tf.random_normal([n_hidden_units_one,n_hidden_units_two], mean = 0, stddev=sd))\n",
    "b_2 = tf.Variable(tf.random_normal([n_hidden_units_two], mean = 0, stddev=sd))\n",
    "h_2 = tf.nn.tanh(tf.matmul(h_1,W_2) + b_2)\n",
    "\n",
    "\n",
    "W_3 = tf.Variable(tf.random_normal([n_hidden_units_two, n_hidden_units_three], mean = 0, stddev=sd))\n",
    "b_3 = tf.Variable(tf.random_normal([n_hidden_units_three], mean = 0, stddev=sd))\n",
    "h_3 = tf.nn.sigmoid(tf.matmul(h_2,W_3) + b_3)\n",
    "\n",
    "\n",
    "W = tf.Variable(tf.random_normal([n_hidden_units_three,n_classes], mean = 0, stddev=sd))\n",
    "b = tf.Variable(tf.random_normal([n_classes], mean = 0, stddev=sd))\n",
    "y_ = tf.nn.softmax(tf.matmul(h_3,W) + b)\n",
    "\n",
    "init = tf.global_variables_initializer()"
   ]
  },
  {
   "cell_type": "code",
   "execution_count": 8,
   "metadata": {
    "collapsed": true
   },
   "outputs": [],
   "source": [
    "cost_function = tf.reduce_mean(-tf.reduce_sum(Y * tf.log(y_), reduction_indices=[1])) \n",
    "optimizer = tf.train.GradientDescentOptimizer(learning_rate).minimize(cost_function)\n",
    "\n",
    "correct_prediction = tf.equal(tf.argmax(y_,1), tf.argmax(Y,1))\n",
    "accuracy = tf.reduce_mean(tf.cast(correct_prediction, tf.float32))"
   ]
  },
  {
   "cell_type": "code",
   "execution_count": null,
   "metadata": {},
   "outputs": [],
   "source": [
    "# Add ops to save and restore all the variables.\n",
    "saver = tf.train.Saver()\n",
    "cost_history = np.empty(shape=[1],dtype=float)\n",
    "y_true, y_pred = None, None\n",
    "with tf.Session() as sess:\n",
    "    sess.run(init)\n",
    "    for epoch in range(training_epochs):            \n",
    "        _,cost = sess.run([optimizer,cost_function],feed_dict={X:train_x,Y:train_y})\n",
    "        cost_history = np.append(cost_history,cost)\n",
    "    \n",
    "    y_pred = sess.run(tf.argmax(y_,1),feed_dict={X: test_x})\n",
    "    y_true = sess.run(tf.argmax(test_y,1))\n",
    "    save_path = saver.save(sess, \"C:/Users/apt/Desktop/model.ckpt\")"
   ]
  },
  {
   "cell_type": "code",
   "execution_count": null,
   "metadata": {
    "collapsed": true
   },
   "outputs": [],
   "source": [
    "with tf.Session() as sess:\n",
    "  # Restore variables from disk.\n",
    "  saver.restore(sess, \"C:/Users/apt/Desktop/model.ckpt\")"
   ]
  },
  {
   "cell_type": "code",
   "execution_count": 28,
   "metadata": {},
   "outputs": [
    {
     "data": {
      "image/png": "[encoded data removed]",
      "text/plain": [
       "<Figure size 720x576 with 1 Axes>"
      ]
     },
     "metadata": {},
     "output_type": "display_data"
    },
    {
     "name": "stdout",
     "output_type": "stream",
     "text": [
      "F-Score: 0.777\n",
      "F-Score: 0.777\n",
      "F-Score: 0.777\n",
      "F-Score: None\n"
     ]
    }
   ],
   "source": [
    "fig = plt.figure(figsize=(10,8))\n",
    "plt.plot(cost_history)\n",
    "plt.ylabel(\"Cost\")\n",
    "plt.xlabel(\"Iterations\")\n",
    "plt.axis([0,training_epochs,0,np.max(cost_history)])\n",
    "plt.show()\n",
    "\n",
    "p,r,f,s = precision_recall_fscore_support(y_true, y_pred, average='micro')\n",
    "print(\"F-Score:\", round(f,3))\n",
    "print(\"F-Score:\", round(p,3))\n",
    "print(\"F-Score:\", round(r,3))\n",
    "print(\"F-Score:\", s)"
   ]
  },
  {
   "cell_type": "markdown",
   "metadata": {},
   "source": [
    "# Keras over tensorflow"
   ]
  },
  {
   "cell_type": "code",
   "execution_count": 17,
   "metadata": {},
   "outputs": [
    {
     "name": "stdout",
     "output_type": "stream",
     "text": [
      "Features: 193 Classes: 2\n"
     ]
    }
   ],
   "source": [
    "import tensorflow as tf\n",
    "from sklearn.metrics import precision_recall_fscore_support, roc_auc_score\n",
    "from keras.models import Sequential\n",
    "from keras.layers import Dense, Dropout\n",
    "from keras.optimizers import Adam\n",
    "from keras.callbacks import EarlyStopping\n",
    "\n",
    "def assure_path_exists(path):\n",
    "    mydir = os.path.join(os.getcwd(), path)\n",
    "    if not os.path.exists(mydir):\n",
    "        os.makedirs(mydir)\n",
    "\n",
    "# neural network dimensions\n",
    "n_dim = train_x.shape[1]\n",
    "n_classes = train_y.shape[1]\n",
    "n_hidden_units_1 = n_dim\n",
    "n_hidden_units_2 = 400 # approx n_dim * 2\n",
    "n_hidden_units_3 = 600\n",
    "n_hidden_units_4 = 400 #\n",
    "n_hidden_units_5 = 200 # half of layer 2\n",
    "\n",
    "checkpoint_dir = \"model\"\n",
    "assure_path_exists(checkpoint_dir)\n",
    "\n",
    "print (\"Features:\", n_dim, \"Classes:\", n_classes)"
   ]
  },
  {
   "cell_type": "code",
   "execution_count": 31,
   "metadata": {
    "scrolled": true
   },
   "outputs": [
    {
     "name": "stderr",
     "output_type": "stream",
     "text": [
      "C:\\Users\\apt\\Anaconda3\\envs\\ml\\lib\\site-packages\\ipykernel_launcher.py:7: UserWarning: Update your `Dense` call to the Keras 2 API: `Dense(193, input_dim=193, activation=\"relu\", kernel_initializer=\"normal\")`\n",
      "  import sys\n",
      "C:\\Users\\apt\\Anaconda3\\envs\\ml\\lib\\site-packages\\ipykernel_launcher.py:9: UserWarning: Update your `Dense` call to the Keras 2 API: `Dense(400, activation=\"sigmoid\", kernel_initializer=\"normal\")`\n",
      "  if __name__ == '__main__':\n",
      "C:\\Users\\apt\\Anaconda3\\envs\\ml\\lib\\site-packages\\ipykernel_launcher.py:12: UserWarning: Update your `Dense` call to the Keras 2 API: `Dense(600, activation=\"tanh\", kernel_initializer=\"normal\")`\n",
      "  if sys.path[0] == '':\n",
      "C:\\Users\\apt\\Anaconda3\\envs\\ml\\lib\\site-packages\\ipykernel_launcher.py:15: UserWarning: Update your `Dense` call to the Keras 2 API: `Dense(400, activation=\"relu\", kernel_initializer=\"normal\")`\n",
      "  from ipykernel import kernelapp as app\n",
      "C:\\Users\\apt\\Anaconda3\\envs\\ml\\lib\\site-packages\\ipykernel_launcher.py:24: UserWarning: Update your `Dense` call to the Keras 2 API: `Dense(2, activation=\"softmax\", kernel_initializer=\"normal\")`\n",
      "C:\\Users\\apt\\Anaconda3\\envs\\ml\\lib\\site-packages\\keras\\models.py:942: UserWarning: The `nb_epoch` argument in `fit` has been renamed `epochs`.\n",
      "  warnings.warn('The `nb_epoch` argument in `fit` '\n"
     ]
    },
    {
     "name": "stdout",
     "output_type": "stream",
     "text": [
      "Train on 1269 samples, validate on 556 samples\n",
      "Epoch 1/100\n",
      "1269/1269 [==============================] - 3s 2ms/step - loss: 0.8836 - acc: 0.5248 - val_loss: 0.7690 - val_acc: 0.5701\n",
      "Epoch 2/100\n",
      "1269/1269 [==============================] - 2s 2ms/step - loss: 0.7696 - acc: 0.5406 - val_loss: 0.6882 - val_acc: 0.5701\n",
      "Epoch 3/100\n",
      "1269/1269 [==============================] - 2s 2ms/step - loss: 0.7442 - acc: 0.5382 - val_loss: 0.6756 - val_acc: 0.5701\n",
      "Epoch 4/100\n",
      "1269/1269 [==============================] - 2s 2ms/step - loss: 0.7375 - acc: 0.5288 - val_loss: 0.7327 - val_acc: 0.4299\n",
      "Epoch 5/100\n",
      "1269/1269 [==============================] - 2s 2ms/step - loss: 0.7097 - acc: 0.5705 - val_loss: 0.6925 - val_acc: 0.5701\n",
      "Epoch 6/100\n",
      "1269/1269 [==============================] - 2s 2ms/step - loss: 0.7204 - acc: 0.5461 - val_loss: 0.6838 - val_acc: 0.5701\n",
      "Epoch 7/100\n",
      "1269/1269 [==============================] - 2s 2ms/step - loss: 0.7108 - acc: 0.5674 - val_loss: 0.7368 - val_acc: 0.4299\n",
      "Epoch 8/100\n",
      "1269/1269 [==============================] - 2s 2ms/step - loss: 0.7048 - acc: 0.5603 - val_loss: 0.6785 - val_acc: 0.6079\n",
      "Epoch 9/100\n",
      "1269/1269 [==============================] - 2s 2ms/step - loss: 0.7073 - acc: 0.5540 - val_loss: 0.6878 - val_acc: 0.5486\n",
      "Epoch 10/100\n",
      "1269/1269 [==============================] - 2s 2ms/step - loss: 0.7013 - acc: 0.5579 - val_loss: 0.7092 - val_acc: 0.4299\n",
      "Epoch 11/100\n",
      "1269/1269 [==============================] - 2s 2ms/step - loss: 0.7063 - acc: 0.5461 - val_loss: 0.6737 - val_acc: 0.5701\n",
      "Epoch 12/100\n",
      "1269/1269 [==============================] - 2s 2ms/step - loss: 0.7028 - acc: 0.5587 - val_loss: 0.6701 - val_acc: 0.5701\n",
      "Epoch 13/100\n",
      "1269/1269 [==============================] - 2s 2ms/step - loss: 0.6901 - acc: 0.5831 - val_loss: 0.6397 - val_acc: 0.6439\n",
      "Epoch 14/100\n",
      "1269/1269 [==============================] - 2s 2ms/step - loss: 0.7005 - acc: 0.5918 - val_loss: 0.7166 - val_acc: 0.5701\n",
      "Epoch 15/100\n",
      "1269/1269 [==============================] - 2s 2ms/step - loss: 0.6937 - acc: 0.6052 - val_loss: 0.6288 - val_acc: 0.6835\n",
      "Epoch 16/100\n",
      "1269/1269 [==============================] - 2s 2ms/step - loss: 0.7026 - acc: 0.5997 - val_loss: 0.6366 - val_acc: 0.6745\n",
      "Epoch 17/100\n",
      "1269/1269 [==============================] - 2s 2ms/step - loss: 0.6737 - acc: 0.6336 - val_loss: 0.6302 - val_acc: 0.6745\n",
      "Epoch 18/100\n",
      "1269/1269 [==============================] - 2s 2ms/step - loss: 0.6594 - acc: 0.6351 - val_loss: 0.6177 - val_acc: 0.6853\n",
      "Epoch 19/100\n",
      "1269/1269 [==============================] - 2s 2ms/step - loss: 0.6500 - acc: 0.6643 - val_loss: 0.5740 - val_acc: 0.7212\n",
      "Epoch 20/100\n",
      "1269/1269 [==============================] - 2s 2ms/step - loss: 0.6712 - acc: 0.6501 - val_loss: 0.5840 - val_acc: 0.7212\n",
      "Epoch 21/100\n",
      "1269/1269 [==============================] - 2s 2ms/step - loss: 0.6459 - acc: 0.6635 - val_loss: 0.6020 - val_acc: 0.7104\n",
      "Epoch 22/100\n",
      "1269/1269 [==============================] - 2s 2ms/step - loss: 0.6437 - acc: 0.6848 - val_loss: 0.6701 - val_acc: 0.6709\n",
      "Epoch 23/100\n",
      "1269/1269 [==============================] - 2s 2ms/step - loss: 0.6460 - acc: 0.6872 - val_loss: 0.5974 - val_acc: 0.6888\n",
      "Epoch 24/100\n",
      "1269/1269 [==============================] - 2s 2ms/step - loss: 0.6312 - acc: 0.6974 - val_loss: 0.5757 - val_acc: 0.7356\n",
      "Epoch 25/100\n",
      "1269/1269 [==============================] - 2s 2ms/step - loss: 0.6352 - acc: 0.6832 - val_loss: 0.5517 - val_acc: 0.7518\n",
      "Epoch 26/100\n",
      "1269/1269 [==============================] - 2s 2ms/step - loss: 0.6185 - acc: 0.6887 - val_loss: 0.5557 - val_acc: 0.7518\n",
      "Epoch 27/100\n",
      "1269/1269 [==============================] - 2s 2ms/step - loss: 0.6140 - acc: 0.7029 - val_loss: 0.5366 - val_acc: 0.7446\n",
      "Epoch 28/100\n",
      "1269/1269 [==============================] - 2s 2ms/step - loss: 0.6358 - acc: 0.7124 - val_loss: 0.6925 - val_acc: 0.5809\n",
      "Epoch 29/100\n",
      "1269/1269 [==============================] - 2s 2ms/step - loss: 0.6403 - acc: 0.6856 - val_loss: 0.6014 - val_acc: 0.7392\n",
      "Epoch 30/100\n",
      "1269/1269 [==============================] - 2s 2ms/step - loss: 0.6241 - acc: 0.6935 - val_loss: 0.5901 - val_acc: 0.7338\n",
      "Epoch 31/100\n",
      "1269/1269 [==============================] - 2s 2ms/step - loss: 0.6236 - acc: 0.7076 - val_loss: 0.5551 - val_acc: 0.7500\n",
      "Epoch 32/100\n",
      "1269/1269 [==============================] - 2s 2ms/step - loss: 0.6136 - acc: 0.7155 - val_loss: 0.6134 - val_acc: 0.7590\n",
      "Epoch 33/100\n",
      "1269/1269 [==============================] - 2s 2ms/step - loss: 0.6210 - acc: 0.7210 - val_loss: 0.5378 - val_acc: 0.7644\n",
      "Epoch 34/100\n",
      "1269/1269 [==============================] - 2s 2ms/step - loss: 0.6106 - acc: 0.7242 - val_loss: 0.5401 - val_acc: 0.7644\n",
      "Epoch 35/100\n",
      "1269/1269 [==============================] - 2s 2ms/step - loss: 0.6319 - acc: 0.7076 - val_loss: 0.5674 - val_acc: 0.7572\n",
      "Epoch 36/100\n",
      "1269/1269 [==============================] - 2s 2ms/step - loss: 0.5955 - acc: 0.7407 - val_loss: 0.5233 - val_acc: 0.7500\n",
      "Epoch 37/100\n",
      "1269/1269 [==============================] - 2s 2ms/step - loss: 0.6102 - acc: 0.7116 - val_loss: 0.5245 - val_acc: 0.7698\n",
      "Epoch 38/100\n",
      "1269/1269 [==============================] - 2s 2ms/step - loss: 0.6274 - acc: 0.7163 - val_loss: 0.5274 - val_acc: 0.7590\n",
      "Epoch 39/100\n",
      "1269/1269 [==============================] - 2s 2ms/step - loss: 0.5973 - acc: 0.7218 - val_loss: 0.5273 - val_acc: 0.7608\n",
      "Epoch 40/100\n",
      "1269/1269 [==============================] - 2s 2ms/step - loss: 0.6244 - acc: 0.6990 - val_loss: 0.6565 - val_acc: 0.6331\n",
      "Epoch 41/100\n",
      "1269/1269 [==============================] - 2s 2ms/step - loss: 0.6081 - acc: 0.7297 - val_loss: 0.5751 - val_acc: 0.7032\n",
      "Epoch 42/100\n",
      "1269/1269 [==============================] - 2s 2ms/step - loss: 0.6265 - acc: 0.7100 - val_loss: 0.5960 - val_acc: 0.6835\n",
      "Epoch 43/100\n",
      "1269/1269 [==============================] - 2s 2ms/step - loss: 0.5973 - acc: 0.7155 - val_loss: 0.5248 - val_acc: 0.7662\n",
      "Epoch 44/100\n",
      "1269/1269 [==============================] - 2s 2ms/step - loss: 0.5978 - acc: 0.7218 - val_loss: 0.5429 - val_acc: 0.7518\n",
      "Epoch 45/100\n",
      "1269/1269 [==============================] - 2s 2ms/step - loss: 0.5995 - acc: 0.7329 - val_loss: 0.5814 - val_acc: 0.6996\n",
      "Epoch 46/100\n",
      "1269/1269 [==============================] - 2s 2ms/step - loss: 0.6020 - acc: 0.7273 - val_loss: 0.5426 - val_acc: 0.7554\n",
      "Epoch 47/100\n",
      "1269/1269 [==============================] - 2s 2ms/step - loss: 0.5958 - acc: 0.7360 - val_loss: 0.5371 - val_acc: 0.7752\n",
      "Epoch 48/100\n",
      "1269/1269 [==============================] - 2s 2ms/step - loss: 0.5901 - acc: 0.7376 - val_loss: 0.6073 - val_acc: 0.7050\n",
      "Epoch 49/100\n",
      "1269/1269 [==============================] - 2s 2ms/step - loss: 0.5959 - acc: 0.7273 - val_loss: 0.5284 - val_acc: 0.7482\n",
      "Epoch 50/100\n",
      "1269/1269 [==============================] - 2s 2ms/step - loss: 0.5935 - acc: 0.7266 - val_loss: 0.5774 - val_acc: 0.7680\n",
      "Epoch 51/100\n",
      "1269/1269 [==============================] - 2s 2ms/step - loss: 0.6144 - acc: 0.7179 - val_loss: 0.5389 - val_acc: 0.7482\n",
      "Epoch 52/100\n",
      "1269/1269 [==============================] - 2s 2ms/step - loss: 0.6123 - acc: 0.7195 - val_loss: 0.5125 - val_acc: 0.7716\n",
      "Epoch 53/100\n",
      "1269/1269 [==============================] - 2s 2ms/step - loss: 0.6126 - acc: 0.7400 - val_loss: 0.5598 - val_acc: 0.7446\n",
      "Epoch 54/100\n",
      "1269/1269 [==============================] - 2s 2ms/step - loss: 0.5826 - acc: 0.7313 - val_loss: 0.5354 - val_acc: 0.7662\n",
      "Epoch 55/100\n",
      "1269/1269 [==============================] - 2s 2ms/step - loss: 0.6296 - acc: 0.6919 - val_loss: 0.5576 - val_acc: 0.7662\n",
      "Epoch 56/100\n",
      "1269/1269 [==============================] - 2s 2ms/step - loss: 0.6139 - acc: 0.7006 - val_loss: 0.5562 - val_acc: 0.7446\n",
      "Epoch 57/100\n",
      "1269/1269 [==============================] - 2s 2ms/step - loss: 0.6053 - acc: 0.7203 - val_loss: 0.6641 - val_acc: 0.7644\n",
      "Epoch 58/100\n",
      "1269/1269 [==============================] - 2s 1ms/step - loss: 0.6054 - acc: 0.7281 - val_loss: 0.7458 - val_acc: 0.5701\n",
      "Epoch 59/100\n",
      "1269/1269 [==============================] - 2s 2ms/step - loss: 0.6301 - acc: 0.7116 - val_loss: 0.5354 - val_acc: 0.7572\n",
      "Epoch 60/100\n",
      "1269/1269 [==============================] - 2s 2ms/step - loss: 0.6059 - acc: 0.7242 - val_loss: 0.5460 - val_acc: 0.7752\n"
     ]
    },
    {
     "name": "stdout",
     "output_type": "stream",
     "text": [
      "Epoch 61/100\n",
      "1269/1269 [==============================] - 2s 2ms/step - loss: 0.6035 - acc: 0.7297 - val_loss: 0.5407 - val_acc: 0.7662\n",
      "Epoch 62/100\n",
      "1269/1269 [==============================] - 2s 2ms/step - loss: 0.5932 - acc: 0.7526 - val_loss: 0.5228 - val_acc: 0.7770\n",
      "Epoch 63/100\n",
      "1269/1269 [==============================] - 2s 2ms/step - loss: 0.5879 - acc: 0.7392 - val_loss: 0.5304 - val_acc: 0.7446\n",
      "Epoch 64/100\n",
      "1269/1269 [==============================] - 2s 2ms/step - loss: 0.5838 - acc: 0.7455 - val_loss: 0.6267 - val_acc: 0.7230\n",
      "Epoch 65/100\n",
      "1269/1269 [==============================] - 2s 2ms/step - loss: 0.5934 - acc: 0.7352 - val_loss: 0.5150 - val_acc: 0.7752\n",
      "Epoch 66/100\n",
      "1269/1269 [==============================] - 2s 1ms/step - loss: 0.5912 - acc: 0.7329 - val_loss: 0.5733 - val_acc: 0.7752\n",
      "Epoch 67/100\n",
      "1269/1269 [==============================] - 2s 2ms/step - loss: 0.5972 - acc: 0.7510 - val_loss: 0.5725 - val_acc: 0.7266\n",
      "Epoch 68/100\n",
      "1269/1269 [==============================] - 2s 2ms/step - loss: 0.5762 - acc: 0.7321 - val_loss: 0.5703 - val_acc: 0.7698\n",
      "Epoch 69/100\n",
      "1269/1269 [==============================] - 2s 2ms/step - loss: 0.5772 - acc: 0.7478 - val_loss: 0.5218 - val_acc: 0.7842\n",
      "Epoch 70/100\n",
      "1269/1269 [==============================] - 2s 2ms/step - loss: 0.5729 - acc: 0.7368 - val_loss: 0.5113 - val_acc: 0.7698\n",
      "Epoch 71/100\n",
      "1269/1269 [==============================] - 2s 2ms/step - loss: 0.5817 - acc: 0.7321 - val_loss: 0.5214 - val_acc: 0.7608\n",
      "Epoch 72/100\n",
      "1269/1269 [==============================] - 2s 1ms/step - loss: 0.5779 - acc: 0.7581 - val_loss: 0.5033 - val_acc: 0.7770\n",
      "Epoch 73/100\n",
      "1269/1269 [==============================] - 2s 1ms/step - loss: 0.6126 - acc: 0.7289 - val_loss: 0.5367 - val_acc: 0.7752\n",
      "Epoch 74/100\n",
      "1269/1269 [==============================] - 2s 1ms/step - loss: 0.5604 - acc: 0.7549 - val_loss: 0.5602 - val_acc: 0.7266\n",
      "Epoch 75/100\n",
      "1269/1269 [==============================] - 2s 1ms/step - loss: 0.5759 - acc: 0.7455 - val_loss: 0.5380 - val_acc: 0.7770\n",
      "Epoch 76/100\n",
      "1269/1269 [==============================] - 2s 1ms/step - loss: 0.5720 - acc: 0.7463 - val_loss: 0.5269 - val_acc: 0.7896\n",
      "Epoch 77/100\n",
      "1269/1269 [==============================] - 2s 2ms/step - loss: 0.5820 - acc: 0.7494 - val_loss: 0.4831 - val_acc: 0.7842\n",
      "Epoch 78/100\n",
      "1269/1269 [==============================] - 2s 1ms/step - loss: 0.5695 - acc: 0.7549 - val_loss: 0.5092 - val_acc: 0.7644\n",
      "Epoch 79/100\n",
      "1269/1269 [==============================] - 2s 1ms/step - loss: 0.5702 - acc: 0.7597 - val_loss: 0.5122 - val_acc: 0.7698\n",
      "Epoch 80/100\n",
      "1269/1269 [==============================] - 2s 1ms/step - loss: 0.5550 - acc: 0.7612 - val_loss: 0.5412 - val_acc: 0.7230\n",
      "Epoch 81/100\n",
      "1269/1269 [==============================] - 2s 1ms/step - loss: 0.5873 - acc: 0.7439 - val_loss: 0.4936 - val_acc: 0.7770\n",
      "Epoch 82/100\n",
      "1269/1269 [==============================] - 2s 1ms/step - loss: 0.5614 - acc: 0.7636 - val_loss: 0.5618 - val_acc: 0.7590\n",
      "Epoch 83/100\n",
      "1269/1269 [==============================] - 2s 1ms/step - loss: 0.5804 - acc: 0.7541 - val_loss: 0.5057 - val_acc: 0.7752\n",
      "Epoch 84/100\n",
      "1269/1269 [==============================] - 2s 1ms/step - loss: 0.5666 - acc: 0.7533 - val_loss: 0.5516 - val_acc: 0.6817\n",
      "Epoch 85/100\n",
      "1269/1269 [==============================] - 2s 1ms/step - loss: 0.5586 - acc: 0.7589 - val_loss: 0.4812 - val_acc: 0.7896\n",
      "Epoch 86/100\n",
      "1269/1269 [==============================] - 2s 1ms/step - loss: 0.5842 - acc: 0.7628 - val_loss: 0.4963 - val_acc: 0.7626\n",
      "Epoch 87/100\n",
      "1269/1269 [==============================] - 2s 1ms/step - loss: 0.5705 - acc: 0.7652 - val_loss: 0.5434 - val_acc: 0.7896\n",
      "Epoch 88/100\n",
      "1269/1269 [==============================] - 2s 1ms/step - loss: 0.5692 - acc: 0.7518 - val_loss: 0.4950 - val_acc: 0.7752\n",
      "Epoch 89/100\n",
      "1269/1269 [==============================] - 2s 1ms/step - loss: 0.5586 - acc: 0.7691 - val_loss: 0.5038 - val_acc: 0.7716\n",
      "Epoch 90/100\n",
      "1269/1269 [==============================] - 2s 1ms/step - loss: 0.5682 - acc: 0.7494 - val_loss: 0.5244 - val_acc: 0.7266\n",
      "Epoch 91/100\n",
      "1269/1269 [==============================] - 2s 1ms/step - loss: 0.5739 - acc: 0.7486 - val_loss: 0.4965 - val_acc: 0.7914\n",
      "Epoch 92/100\n",
      "1269/1269 [==============================] - 2s 1ms/step - loss: 0.5790 - acc: 0.7675 - val_loss: 0.4803 - val_acc: 0.7860\n",
      "Epoch 93/100\n",
      "1269/1269 [==============================] - 2s 1ms/step - loss: 0.5672 - acc: 0.7557 - val_loss: 0.5241 - val_acc: 0.7986\n",
      "Epoch 94/100\n",
      "1269/1269 [==============================] - 2s 2ms/step - loss: 0.5662 - acc: 0.7675 - val_loss: 0.5326 - val_acc: 0.7392\n",
      "Epoch 95/100\n",
      "1269/1269 [==============================] - 2s 2ms/step - loss: 0.5585 - acc: 0.7589 - val_loss: 0.5328 - val_acc: 0.7608\n",
      "Epoch 96/100\n",
      "1269/1269 [==============================] - 2s 2ms/step - loss: 0.5623 - acc: 0.7533 - val_loss: 0.4894 - val_acc: 0.8004\n",
      "Epoch 97/100\n",
      "1269/1269 [==============================] - 2s 1ms/step - loss: 0.5496 - acc: 0.7754 - val_loss: 0.4997 - val_acc: 0.7986\n",
      "Epoch 98/100\n",
      "1269/1269 [==============================] - 2s 1ms/step - loss: 0.5717 - acc: 0.7683 - val_loss: 0.4975 - val_acc: 0.7698\n",
      "Epoch 99/100\n",
      "1269/1269 [==============================] - 2s 2ms/step - loss: 0.5612 - acc: 0.7738 - val_loss: 0.5077 - val_acc: 0.7896\n",
      "Epoch 100/100\n",
      "1269/1269 [==============================] - 4s 4ms/step - loss: 0.5749 - acc: 0.7778 - val_loss: 0.4773 - val_acc: 0.796868 - acc\n"
     ]
    }
   ],
   "source": [
    "tf.set_random_seed(0)\n",
    "np.random.seed(0)\n",
    "\n",
    "def create_model(activation_function='relu', init_type='normal', optimiser='RMSprop', dropout_rate=0.5):\n",
    "    model = Sequential()\n",
    "    # layer 1\n",
    "    model.add(Dense(n_hidden_units_1, input_dim=n_dim, init=init_type, activation='relu'))\n",
    "    # layer 2\n",
    "    model.add(Dense(n_hidden_units_2, init=init_type, activation='sigmoid'))\n",
    "    model.add(Dropout(dropout_rate))\n",
    "    # layer 3\n",
    "    model.add(Dense(n_hidden_units_3, init=init_type, activation='tanh'))\n",
    "    model.add(Dropout(dropout_rate))\n",
    "     # layer 4\n",
    "    model.add(Dense(n_hidden_units_4, init=init_type, activation='relu'))\n",
    "    model.add(Dropout(dropout_rate))\n",
    "    \n",
    "    #model.add(Dense(n_hidden_units_4, init=init_type, activation='relu'))\n",
    "    #model.add(Dropout(dropout_rate))\n",
    "    \n",
    " \n",
    "    \n",
    "    # output layer\n",
    "    model.add(Dense(n_classes, init=init_type, activation='softmax'))\n",
    "    \n",
    "    model.compile(loss='categorical_crossentropy', optimizer=optimiser, metrics=['accuracy'])\n",
    "    return model\n",
    "\n",
    "# a stopping function to stop training before we excessively overfit to the training set\n",
    "earlystop = EarlyStopping(monitor='val_loss', patience=20, verbose=1, mode='auto')\n",
    "\n",
    "model = create_model()\n",
    "\n",
    "history = model.fit(train_x, train_y,  nb_epoch=100, batch_size=10, validation_data=(test_x, test_y))"
   ]
  },
  {
   "cell_type": "markdown",
   "metadata": {},
   "source": [
    "# Accuracy "
   ]
  },
  {
   "cell_type": "code",
   "execution_count": 11,
   "metadata": {},
   "outputs": [
    {
     "name": "stdout",
     "output_type": "stream",
     "text": [
      "F-Score: 0.788\n"
     ]
    }
   ],
   "source": [
    "from sklearn import metrics \n",
    "from keras.utils import np_utils\n",
    "\n",
    "\n",
    "# obtain the prediction probabilities\n",
    "y_prob = model.predict_proba(test_x, verbose=0)\n",
    "#y_pred = np_utils.probas_to_classes(y_prob)\n",
    "#replaced above probas_to_classes as updated keras doesnt have it  \n",
    "y_pred = y_prob.argmax(axis=-1)\n",
    "y_true = np.argmax(test_y, 1)\n",
    "\n",
    "#roc = metrics.roc_auc_score(test_y, y_prob)\n",
    "#print (\"ROC:\",  round(roc,2))\n",
    "\n",
    "# evaluate the model\n",
    "#score, accuracy = model.evaluate(test_x, test_y, batch_size=32)\n",
    "#print(\"\\nAccuracy = {:.2f}\".format(accuracy))\n",
    "\n",
    "p,r,f,s = precision_recall_fscore_support(y_true, y_pred, average='micro')\n",
    "print (\"F-Score:\", round(f,3))"
   ]
  },
  {
   "cell_type": "markdown",
   "metadata": {},
   "source": [
    "# Refinement and Optimisation"
   ]
  },
  {
   "cell_type": "markdown",
   "metadata": {},
   "source": [
    "The performance of a deep neural network is highly dependent on many configurable hyper-parameters, values that govern how the model actually works, and which are not changed during the course of learning. Some of these parameters will have a greater influence than others. The classic machine learning solution to this challenge is GridSearch, to successively train separate instances of a model with distinct values of key parameters, and then compare the resulting accuracy scores to identify which combination of parameters has produced the best results.\n",
    "\n",
    "Have started searching for best parameters using this startegy"
   ]
  },
  {
   "cell_type": "code",
   "execution_count": 121,
   "metadata": {
    "scrolled": true
   },
   "outputs": [
    {
     "name": "stderr",
     "output_type": "stream",
     "text": [
      "C:\\Users\\apt\\Anaconda3\\envs\\ml\\lib\\site-packages\\ipykernel_launcher.py:7: UserWarning: Update your `Dense` call to the Keras 2 API: `Dense(193, input_dim=193, activation=\"relu\", kernel_initializer=\"normal\")`\n",
      "  import sys\n",
      "C:\\Users\\apt\\Anaconda3\\envs\\ml\\lib\\site-packages\\ipykernel_launcher.py:9: UserWarning: Update your `Dense` call to the Keras 2 API: `Dense(400, activation=\"relu\", kernel_initializer=\"normal\")`\n",
      "  if __name__ == '__main__':\n",
      "C:\\Users\\apt\\Anaconda3\\envs\\ml\\lib\\site-packages\\ipykernel_launcher.py:12: UserWarning: Update your `Dense` call to the Keras 2 API: `Dense(200, activation=\"relu\", kernel_initializer=\"normal\")`\n",
      "  if sys.path[0] == '':\n",
      "C:\\Users\\apt\\Anaconda3\\envs\\ml\\lib\\site-packages\\ipykernel_launcher.py:15: UserWarning: Update your `Dense` call to the Keras 2 API: `Dense(2, activation=\"softmax\", kernel_initializer=\"normal\")`\n",
      "  from ipykernel import kernelapp as app\n"
     ]
    },
    {
     "name": "stdout",
     "output_type": "stream",
     "text": [
      "Running GridSearch...\n",
      "GridSearch complete\n",
      "Best: 0.451208 using {'dropout_rate': 0.0}\n",
      "0.451208 (0.414039) with: {'dropout_rate': 0.0}\n",
      "0.215459 (0.304705) with: {'dropout_rate': 0.1}\n",
      "0.220290 (0.301347) with: {'dropout_rate': 0.2}\n",
      "0.240580 (0.170218) with: {'dropout_rate': 0.3}\n",
      "0.119807 (0.165350) with: {'dropout_rate': 0.4}\n",
      "0.248309 (0.176476) with: {'dropout_rate': 0.5}\n",
      "0.131401 (0.185829) with: {'dropout_rate': 0.6}\n",
      "0.161353 (0.228187) with: {'dropout_rate': 0.7}\n",
      "0.117874 (0.166700) with: {'dropout_rate': 0.8}\n",
      "0.124638 (0.176264) with: {'dropout_rate': 0.9}\n"
     ]
    }
   ],
   "source": [
    "from keras.wrappers.scikit_learn import KerasClassifier\n",
    "from sklearn.model_selection import GridSearchCV\n",
    "from keras.constraints import maxnorm\n",
    "\n",
    "activations = ['relu', 'tanh', 'linear']\n",
    "batch_sizes = [10, 20, 30, 40, 50, 60]\n",
    "epochs = [10, 20, 30]\n",
    "dropout_rates = [0.0, 0.1, 0.2, 0.3, 0.4, 0.5, 0.6, 0.7, 0.8, 0.9]\n",
    "\n",
    "optimisers = ['SGD', 'RMSprop', 'Adagrad', 'Adadelta', 'Adam', 'Adamax', 'Nadam']\n",
    "\n",
    "model = KerasClassifier(build_fn=create_model, nb_epoch=10, batch_size=24, verbose=0)\n",
    "model.fit(train_x, train_y)\n",
    "# define the grid search parameters\n",
    "# just using one here for illustration, but add activation_function=activations \n",
    "# or dropout_rate=dropout_rates to grid search on other parameters\n",
    "param_grid = dict(dropout_rate = dropout_rates )\n",
    "#param_grid = dict(optimiser=optimisers, activation_function=activations, dropout_rate = dropout_rates, batch_size= batch_sizes )\n",
    "grid = GridSearchCV(estimator=model, param_grid=param_grid, n_jobs=1)\n",
    "\n",
    "print (\"Running GridSearch...\")\n",
    "grid_result = grid.fit(train_x, train_y)\n",
    "print (\"GridSearch complete\")\n",
    "\n",
    "# summarize results\n",
    "print(\"Best: %f using %s\" % (grid_result.best_score_, grid_result.best_params_))\n",
    "means = grid_result.cv_results_['mean_test_score']\n",
    "stds = grid_result.cv_results_['std_test_score']\n",
    "params = grid_result.cv_results_['params']\n",
    "for mean, stdev, param in zip(means, stds, params):\n",
    "    print(\"%f (%f) with: %r\" % (mean, stdev, param))\n"
   ]
  },
  {
   "cell_type": "markdown",
   "metadata": {},
   "source": [
    "# Generating Predictions"
   ]
  },
  {
   "cell_type": "markdown",
   "metadata": {},
   "source": [
    "Once we've trained a model, we can use the following process to pass an audio file into our model and generate predictions, which will be the activation value (between Normal and Abnormal) at the output layer for each of the 2 possible classes."
   ]
  },
  {
   "cell_type": "code",
   "execution_count": 13,
   "metadata": {
    "collapsed": true
   },
   "outputs": [],
   "source": [
    "def extract_features_only(filename):\n",
    "    features = np.empty((0,193))\n",
    "    X, sample_rate = librosa.load(filename)\n",
    "    stft = np.abs(librosa.stft(X))\n",
    "    mfccs = np.mean(librosa.feature.mfcc(y=X, sr=sample_rate, n_mfcc=40).T,axis=0)\n",
    "    chroma = np.mean(librosa.feature.chroma_stft(S=stft, sr=sample_rate).T,axis=0)\n",
    "    mel = np.mean(librosa.feature.melspectrogram(X, sr=sample_rate).T,axis=0)\n",
    "    contrast = np.mean(librosa.feature.spectral_contrast(S=stft, sr=sample_rate).T,axis=0)\n",
    "    tonnetz = np.mean(librosa.feature.tonnetz(y=librosa.effects.harmonic(X), sr=sample_rate).T,axis=0)\n",
    "    ext_features = np.hstack([mfccs,chroma,mel,contrast,tonnetz])\n",
    "    features = np.vstack([features,ext_features])\n",
    "    return features"
   ]
  },
  {
   "cell_type": "code",
   "execution_count": 15,
   "metadata": {},
   "outputs": [
    {
     "name": "stdout",
     "output_type": "stream",
     "text": [
      "1\n"
     ]
    }
   ],
   "source": [
    "predict_x = extract_features_only('C:/Users/apt/Desktop/Data/dataset/normal/107_1305654946865_C1.wav')\n",
    "predictions = model.predict(predict_x)\n",
    "print(np.argmax(predictions))"
   ]
  },
  {
   "cell_type": "code",
   "execution_count": 18,
   "metadata": {
    "collapsed": true
   },
   "outputs": [],
   "source": [
    "sound_file_paths = [\"a0001.wav\",\"a0002.wav\",\"a0003.wav\",\"a0004.wav\",\"a0005.wav\",\n",
    "                   \"a0006.wav\",\"a0007.wav\",\"a0008.wav\",\"a0009.wav\",\"a0010.wav\", \"a0011.wav\",\"a0012.wav\",\"a0013.wav\",\"a0014.wav\",\"a0015.wav\",\n",
    "                   \"a0016.wav\",\"a0017.wav\",\"a0018.wav\",\"a0019.wav\",\"a0020.wav\"]\n",
    "sound_names = [\"abnormal\",\"abnormal\",\"abnormal\",\"abnormal\",\"abnormal\",\"abnormal\",\n",
    "               \"normal\",\"abnormal\",\"normal\",\"abnormal\",\"normal\",\"normal\",\"abnormal\",\"abnormal\",\"abnormal\",\"normal\",\n",
    "               \"abnormal\",\"abnormal\",\"normal\",\"abnormal\"]\n",
    "parent_dir = 'C:/Users/apt/Desktop/Data/training/training-a/'"
   ]
  },
  {
   "cell_type": "code",
   "execution_count": 24,
   "metadata": {},
   "outputs": [
    {
     "name": "stdout",
     "output_type": "stream",
     "text": [
      "Expected label ==> abnormal\n",
      "Predicted label ===> ['abnormal']\n",
      "-------------------------------\n",
      "Expected label ==> abnormal\n",
      "Predicted label ===> ['abnormal']\n",
      "-------------------------------\n",
      "Expected label ==> abnormal\n"
     ]
    },
    {
     "name": "stderr",
     "output_type": "stream",
     "text": [
      "C:\\Users\\apt\\Anaconda3\\envs\\ml\\lib\\site-packages\\librosa\\core\\pitch.py:145: UserWarning: Trying to estimate tuning from empty frequency set.\n",
      "  warnings.warn('Trying to estimate tuning from empty frequency set.')\n"
     ]
    },
    {
     "name": "stdout",
     "output_type": "stream",
     "text": [
      "Predicted label ===> ['abnormal']\n",
      "-------------------------------\n",
      "Expected label ==> abnormal\n",
      "Predicted label ===> ['abnormal']\n",
      "-------------------------------\n",
      "Expected label ==> abnormal\n",
      "Predicted label ===> ['abnormal']\n",
      "-------------------------------\n",
      "Expected label ==> abnormal\n",
      "Predicted label ===> ['abnormal']\n",
      "-------------------------------\n",
      "Expected label ==> normal\n",
      "Predicted label ===> ['abnormal']\n",
      "-------------------------------\n",
      "Expected label ==> abnormal\n",
      "Predicted label ===> ['abnormal']\n",
      "-------------------------------\n",
      "Expected label ==> normal\n",
      "Predicted label ===> ['normal']\n",
      "-------------------------------\n",
      "Expected label ==> abnormal\n",
      "Predicted label ===> ['abnormal']\n",
      "-------------------------------\n",
      "Expected label ==> normal\n",
      "Predicted label ===> ['abnormal']\n",
      "-------------------------------\n",
      "Expected label ==> normal\n",
      "Predicted label ===> ['normal']\n",
      "-------------------------------\n",
      "Expected label ==> abnormal\n",
      "Predicted label ===> ['abnormal']\n",
      "-------------------------------\n",
      "Expected label ==> abnormal\n",
      "Predicted label ===> ['abnormal']\n",
      "-------------------------------\n",
      "Expected label ==> abnormal\n",
      "Predicted label ===> ['abnormal']\n",
      "-------------------------------\n",
      "Expected label ==> normal\n",
      "Predicted label ===> ['abnormal']\n",
      "-------------------------------\n",
      "Expected label ==> abnormal\n",
      "Predicted label ===> ['abnormal']\n",
      "-------------------------------\n",
      "Expected label ==> abnormal\n",
      "Predicted label ===> ['abnormal']\n",
      "-------------------------------\n",
      "Expected label ==> normal\n",
      "Predicted label ===> ['normal']\n",
      "-------------------------------\n",
      "Expected label ==> abnormal\n",
      "Predicted label ===> ['abnormal']\n",
      "-------------------------------\n"
     ]
    }
   ],
   "source": [
    "for s in range(len(sound_names)):\n",
    "\n",
    "    print (\"Expected label ==>\", sound_names[s])\n",
    "    # load audio file and extract features\n",
    "    predict_file = parent_dir + sound_file_paths[s]\n",
    "    predict_x = extract_features_only(predict_file)\n",
    "    #print(predict_x)\n",
    "    # generate prediction, passing in just a single row of features\n",
    "    predictions = model.predict(predict_x)\n",
    "    #for i in range(len(predictions[0])):\n",
    "    #    print sound_names[i], \"=\", round(predictions[0,i] * 100, 1)\n",
    "    \n",
    "    # get the indices of the top 2 predictions, invert into descending order\n",
    "    #If you’re not familiar, the np.partition does a partial sort on the vector,\n",
    "    #just separating the numbers into two groups (partitions) one of size k, and the other len-k \n",
    "    #such that all the values in the first group are less than all the values in the second.\n",
    "    #That’s np.partition, while np.argpartition does the same thing but gives you the indices\n",
    "    #into the vector rather than the values.\n",
    "    ind = np.argpartition(predictions[0], -2)\n",
    "    \n",
    "    inverted = label_encoder.inverse_transform([argmax(ind)])\n",
    "    print (\"Predicted label ===>\", inverted)\n",
    "    print(\"-------------------------------\")\n",
    "    ind[np.argsort(predictions[0][ind])]\n",
    "    ind = ind[::-1]\n",
    "    #print(ind[0])\n",
    "    #print(ind[1])\n",
    "    \n",
    "    \n",
    "    #print (\"Top guess: \", sound_names[ind[0]], \" (\",round(predictions[0,ind[0]],3),\")\")\n",
    "    #print (\"2nd guess: \", sound_names[ind[1]], \" (\",round(predictions[0,ind[1]],3),\")\")"
   ]
  }
 ],
 "metadata": {
  "kernelspec": {
   "display_name": "Python 3",
   "language": "python",
   "name": "python3"
  },
  "language_info": {
   "codemirror_mode": {
    "name": "ipython",
    "version": 3
   },
   "file_extension": ".py",
   "mimetype": "text/x-python",
   "name": "python",
   "nbconvert_exporter": "python",
   "pygments_lexer": "ipython3",
   "version": "3.7.1"
  }
 },
 "nbformat": 4,
 "nbformat_minor": 2
}
